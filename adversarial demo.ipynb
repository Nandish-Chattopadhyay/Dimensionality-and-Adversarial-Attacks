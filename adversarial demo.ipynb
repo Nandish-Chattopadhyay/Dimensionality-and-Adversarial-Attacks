{
 "cells": [
  {
   "cell_type": "markdown",
   "metadata": {},
   "source": [
    "## Import the basics"
   ]
  },
  {
   "cell_type": "code",
   "execution_count": 6,
   "metadata": {},
   "outputs": [
    {
     "ename": "AttributeError",
     "evalue": "module 'tensorflow' has no attribute 'GraphKeys'",
     "output_type": "error",
     "traceback": [
      "\u001b[1;31m---------------------------------------------------------------------------\u001b[0m",
      "\u001b[1;31mAttributeError\u001b[0m                            Traceback (most recent call last)",
      "\u001b[1;32m<ipython-input-6-fff0da244ed6>\u001b[0m in \u001b[0;36m<module>\u001b[1;34m()\u001b[0m\n\u001b[0;32m     22\u001b[0m \u001b[1;31m#from util import get_normalized_data\u001b[0m\u001b[1;33m\u001b[0m\u001b[1;33m\u001b[0m\u001b[0m\n\u001b[0;32m     23\u001b[0m \u001b[1;33m\u001b[0m\u001b[0m\n\u001b[1;32m---> 24\u001b[1;33m \u001b[1;32mfrom\u001b[0m \u001b[0mcleverhans\u001b[0m\u001b[1;33m.\u001b[0m\u001b[0mattacks\u001b[0m \u001b[1;32mimport\u001b[0m \u001b[0mFastGradientMethod\u001b[0m\u001b[1;33m\u001b[0m\u001b[0m\n\u001b[0m\u001b[0;32m     25\u001b[0m \u001b[1;32mfrom\u001b[0m \u001b[0mcleverhans\u001b[0m\u001b[1;33m.\u001b[0m\u001b[0mmodel\u001b[0m \u001b[1;32mimport\u001b[0m \u001b[0mCallableModelWrapper\u001b[0m\u001b[1;33m\u001b[0m\u001b[0m\n\u001b[0;32m     26\u001b[0m \u001b[1;32mfrom\u001b[0m \u001b[0mcleverhans\u001b[0m\u001b[1;33m.\u001b[0m\u001b[0mutils\u001b[0m \u001b[1;32mimport\u001b[0m \u001b[0mAccuracyReport\u001b[0m\u001b[1;33m\u001b[0m\u001b[0m\n",
      "\u001b[1;32mc:\\users\\nandish\\ai\\cleverhans\\cleverhans\\attacks.py\u001b[0m in \u001b[0;36m<module>\u001b[1;34m()\u001b[0m\n\u001b[0;32m     11\u001b[0m \u001b[1;32mfrom\u001b[0m \u001b[0mcleverhans\u001b[0m\u001b[1;33m.\u001b[0m\u001b[0mcompat\u001b[0m \u001b[1;32mimport\u001b[0m \u001b[0mreduce_max\u001b[0m\u001b[1;33m\u001b[0m\u001b[0m\n\u001b[0;32m     12\u001b[0m \u001b[1;32mfrom\u001b[0m \u001b[0mcleverhans\u001b[0m\u001b[1;33m.\u001b[0m\u001b[0mcompat\u001b[0m \u001b[1;32mimport\u001b[0m \u001b[0msoftmax_cross_entropy_with_logits\u001b[0m\u001b[1;33m\u001b[0m\u001b[0m\n\u001b[1;32m---> 13\u001b[1;33m \u001b[1;32mfrom\u001b[0m \u001b[0mcleverhans\u001b[0m\u001b[1;33m.\u001b[0m\u001b[0mutils_tf\u001b[0m \u001b[1;32mimport\u001b[0m \u001b[0mclip_eta\u001b[0m\u001b[1;33m\u001b[0m\u001b[0m\n\u001b[0m\u001b[0;32m     14\u001b[0m \u001b[1;32mfrom\u001b[0m \u001b[0mcleverhans\u001b[0m \u001b[1;32mimport\u001b[0m \u001b[0mutils_tf\u001b[0m\u001b[1;33m\u001b[0m\u001b[0m\n\u001b[0;32m     15\u001b[0m \u001b[1;33m\u001b[0m\u001b[0m\n",
      "\u001b[1;32mc:\\users\\nandish\\ai\\cleverhans\\cleverhans\\utils_tf.py\u001b[0m in \u001b[0;36m<module>\u001b[1;34m()\u001b[0m\n\u001b[0;32m    337\u001b[0m \u001b[1;33m\u001b[0m\u001b[0m\n\u001b[0;32m    338\u001b[0m def kl_with_logits(p_logits, q_logits, scope=None,\n\u001b[1;32m--> 339\u001b[1;33m                    loss_collection=tf.GraphKeys.REGULARIZATION_LOSSES):\n\u001b[0m\u001b[0;32m    340\u001b[0m   \"\"\"Helper function to compute kl-divergence KL(p || q)\n\u001b[0;32m    341\u001b[0m   \"\"\"\n",
      "\u001b[1;31mAttributeError\u001b[0m: module 'tensorflow' has no attribute 'GraphKeys'"
     ]
    }
   ],
   "source": [
    "from __future__ import absolute_import\n",
    "from __future__ import division\n",
    "from __future__ import print_function\n",
    "from __future__ import unicode_literals\n",
    "\n",
    "\n",
    "from random import randint\n",
    "import utils as ut \n",
    "import time\n",
    "\n",
    "import numpy as np\n",
    "import tensorflow as tf\n",
    "from tensorflow.python.platform import flags\n",
    "import torch\n",
    "from torch import nn\n",
    "import torch.nn.functional as F\n",
    "from torch import optim\n",
    "from torch.autograd import Variable\n",
    "from torchvision import datasets, transforms\n",
    "\n",
    "\n",
    "#from util import get_normalized_data\n",
    "\n",
    "from cleverhans.attacks import FastGradientMethod\n",
    "from cleverhans.model import CallableModelWrapper\n",
    "from cleverhans.utils import AccuracyReport\n",
    "from cleverhans.utils_pytorch import convert_pytorch_model_to_tf\n",
    "\n",
    "\n"
   ]
  },
  {
   "cell_type": "markdown",
   "metadata": {},
   "source": [
    "## Use GPU with cuda"
   ]
  },
  {
   "cell_type": "code",
   "execution_count": 7,
   "metadata": {},
   "outputs": [
    {
     "name": "stdout",
     "output_type": "stream",
     "text": [
      "cuda\n"
     ]
    }
   ],
   "source": [
    "device= torch.device(\"cuda\")\n",
    "#device= torch.device(\"cpu\")\n",
    "print(device)\n",
    "\n"
   ]
  },
  {
   "cell_type": "markdown",
   "metadata": {},
   "source": [
    "## Test case on CIFAR-10"
   ]
  },
  {
   "cell_type": "code",
   "execution_count": 3,
   "metadata": {},
   "outputs": [
    {
     "name": "stdout",
     "output_type": "stream",
     "text": [
      "torch.Size([50000, 3, 32, 32])\n",
      "torch.Size([10000, 3, 32, 32])\n",
      "torch.FloatTensor\n",
      "torch.FloatTensor\n"
     ]
    }
   ],
   "source": [
    "from utils import check_cifar_dataset_exists\n",
    "data_path=check_cifar_dataset_exists()\n",
    "\n",
    "train_data=torch.load(data_path+'cifar/train_data.pt')\n",
    "train_label=torch.load(data_path+'cifar/train_label.pt')\n",
    "test_data=torch.load(data_path+'cifar/test_data.pt')\n",
    "test_label=torch.load(data_path+'cifar/test_label.pt')\n",
    "\n",
    "print(train_data.size())\n",
    "print(test_data.size())\n",
    "print(train_data.type())\n",
    "print(test_data.type())\n"
   ]
  },
  {
   "cell_type": "code",
   "execution_count": 4,
   "metadata": {},
   "outputs": [
    {
     "name": "stdout",
     "output_type": "stream",
     "text": [
      "torch.Size([50000, 3, 64, 64])\n"
     ]
    }
   ],
   "source": [
    "train_data_2 = F.interpolate(train_data, scale_factor=2)\n",
    "print(train_data_2.size())"
   ]
  },
  {
   "cell_type": "code",
   "execution_count": 5,
   "metadata": {},
   "outputs": [
    {
     "name": "stdout",
     "output_type": "stream",
     "text": [
      "tensor(0.4734)\n",
      "tensor(0.2516)\n"
     ]
    }
   ],
   "source": [
    "mean= train_data.mean()\n",
    "\n",
    "print(mean)\n",
    "\n",
    "std= train_data.std()\n",
    "\n",
    "print(std)\n"
   ]
  },
  {
   "cell_type": "markdown",
   "metadata": {},
   "source": [
    "# Model \n"
   ]
  },
  {
   "cell_type": "code",
   "execution_count": 6,
   "metadata": {},
   "outputs": [],
   "source": [
    "class VGG_convnet(nn.Module):\n",
    "\n",
    "    def __init__(self):\n",
    "\n",
    "        super(VGG_convnet, self).__init__()\n",
    "\n",
    "        # block 1:         3 x 32 x 32 --> 64 x 16 x 16        \n",
    "        self.conv1a = nn.Conv2d(3,   64,  kernel_size=3, padding=1 )\n",
    "        self.conv1b = nn.Conv2d(64,  64,  kernel_size=3, padding=1 )\n",
    "        self.pool1  = nn.MaxPool2d(2,2)\n",
    "\n",
    "        # block 2:         64 x 16 x 16 --> 128 x 8 x 8\n",
    "        self.conv2a = nn.Conv2d(64,  128, kernel_size=3, padding=1 )\n",
    "        self.conv2b = nn.Conv2d(128, 128, kernel_size=3, padding=1 )\n",
    "        self.pool2  = nn.MaxPool2d(2,2)\n",
    "\n",
    "        # block 3:         128 x 8 x 8 --> 256 x 4 x 4        \n",
    "        self.conv3a = nn.Conv2d(128, 256, kernel_size=3, padding=1 )\n",
    "        self.conv3b = nn.Conv2d(256, 256, kernel_size=3, padding=1 )\n",
    "        self.pool3  = nn.MaxPool2d(2,2)\n",
    "        \n",
    "        #block 4:          256 x 4 x 4 --> 512 x 2 x 2\n",
    "        self.conv4a = nn.Conv2d(256, 512, kernel_size=3, padding=1 )\n",
    "        self.pool4  = nn.MaxPool2d(2,2)\n",
    "\n",
    "        # linear layers:   512 x 2 x 2 --> 2048 --> 4096 --> 4096 --> 10\n",
    "        self.linear1 = nn.Linear(2048, 4096)\n",
    "        self.linear2 = nn.Linear(4096,4096)\n",
    "        self.dropout = nn.Dropout(0.2)\n",
    "        self.linear3 = nn.Linear(4096, 10)\n",
    "\n",
    "\n",
    "    def forward(self, x):\n",
    "\n",
    "        # block 1:         3 x 32 x 32 --> 64 x 16 x 16\n",
    "        x = self.conv1a(x)\n",
    "        x = F.relu(x)\n",
    "        x = self.conv1b(x)\n",
    "        x = F.relu(x)\n",
    "        x = self.pool1(x)\n",
    "\n",
    "        # block 2:         64 x 16 x 16 --> 128 x 8 x 8\n",
    "        x = self.conv2a(x)\n",
    "        x = F.relu(x)\n",
    "        x = self.conv2b(x)\n",
    "        x = F.relu(x)\n",
    "        x = self.pool2(x)\n",
    "\n",
    "        # block 3:         128 x 8 x 8 --> 256 x 4 x 4\n",
    "        x = self.conv3a(x)\n",
    "        x = F.relu(x)\n",
    "        x = self.conv3b(x)\n",
    "        x = F.relu(x)\n",
    "        x = self.pool3(x)\n",
    "\n",
    "        #block 4:          256 x 4 x 4 --> 512 x 2 x 2\n",
    "        x = self.conv4a(x)\n",
    "        x = F.relu(x)\n",
    "        x = self.pool4(x)\n",
    "\n",
    "        # linear layers:   512 x 2 x 2 --> 2048 --> 4096 --> 4096 --> 10\n",
    "        x = x.view(-1, 2048)\n",
    "        x = self.linear1(x)\n",
    "        x = F.relu(x)\n",
    "        x = self.dropout(x)\n",
    "        x = self.linear2(x)\n",
    "        x = F.relu(x)\n",
    "        x = self.linear3(x) \n",
    "        \n",
    "        return x\n"
   ]
  },
  {
   "cell_type": "code",
   "execution_count": 7,
   "metadata": {},
   "outputs": [
    {
     "name": "stdout",
     "output_type": "stream",
     "text": [
      "VGG_convnet(\n",
      "  (conv1a): Conv2d(3, 64, kernel_size=(3, 3), stride=(1, 1), padding=(1, 1))\n",
      "  (conv1b): Conv2d(64, 64, kernel_size=(3, 3), stride=(1, 1), padding=(1, 1))\n",
      "  (pool1): MaxPool2d(kernel_size=2, stride=2, padding=0, dilation=1, ceil_mode=False)\n",
      "  (conv2a): Conv2d(64, 128, kernel_size=(3, 3), stride=(1, 1), padding=(1, 1))\n",
      "  (conv2b): Conv2d(128, 128, kernel_size=(3, 3), stride=(1, 1), padding=(1, 1))\n",
      "  (pool2): MaxPool2d(kernel_size=2, stride=2, padding=0, dilation=1, ceil_mode=False)\n",
      "  (conv3a): Conv2d(128, 256, kernel_size=(3, 3), stride=(1, 1), padding=(1, 1))\n",
      "  (conv3b): Conv2d(256, 256, kernel_size=(3, 3), stride=(1, 1), padding=(1, 1))\n",
      "  (pool3): MaxPool2d(kernel_size=2, stride=2, padding=0, dilation=1, ceil_mode=False)\n",
      "  (conv4a): Conv2d(256, 512, kernel_size=(3, 3), stride=(1, 1), padding=(1, 1))\n",
      "  (pool4): MaxPool2d(kernel_size=2, stride=2, padding=0, dilation=1, ceil_mode=False)\n",
      "  (linear1): Linear(in_features=2048, out_features=4096, bias=True)\n",
      "  (linear2): Linear(in_features=4096, out_features=4096, bias=True)\n",
      "  (dropout): Dropout(p=0.2)\n",
      "  (linear3): Linear(in_features=4096, out_features=10, bias=True)\n",
      ")\n",
      "There are 27540554 (27.54 million) parameters in this neural network\n"
     ]
    }
   ],
   "source": [
    "net=VGG_convnet()\n",
    "\n",
    "print(net)\n",
    "ut.display_num_param(net)\n"
   ]
  },
  {
   "cell_type": "code",
   "execution_count": 8,
   "metadata": {},
   "outputs": [],
   "source": [
    "net = net.to(device)\n",
    "\n",
    "mean = mean.to(device)\n",
    "\n",
    "std = std.to(device)\n"
   ]
  },
  {
   "cell_type": "code",
   "execution_count": 9,
   "metadata": {},
   "outputs": [],
   "source": [
    "criterion = nn.CrossEntropyLoss()\n",
    "my_lr=0.25 \n",
    "bs= 128"
   ]
  },
  {
   "cell_type": "markdown",
   "metadata": {},
   "source": [
    "## Train and Test the model"
   ]
  },
  {
   "cell_type": "code",
   "execution_count": 10,
   "metadata": {},
   "outputs": [
    {
     "name": "stdout",
     "output_type": "stream",
     "text": [
      "epoch= 1 \t time= 1.8182127078374226 min \t lr= 0.25 \t loss= 2.3031698773279214 \t error= 89.94205562050081 percent\n",
      "accuracy on test set = 10.096914556962023 %\n",
      " \n",
      "epoch= 2 \t time= 3.7086350599924724 min \t lr= 0.25 \t loss= 2.301162473381023 \t error= 89.52325766958545 percent\n",
      "accuracy on test set = 9.889240506329111 %\n",
      " \n",
      "epoch= 3 \t time= 5.583593503634135 min \t lr= 0.25 \t loss= 2.3026106327086153 \t error= 89.71027812689466 percent\n",
      "accuracy on test set = 10.096914556962023 %\n",
      " \n",
      "epoch= 4 \t time= 7.448767550786337 min \t lr= 0.25 \t loss= 2.301766462643128 \t error= 89.6699168797954 percent\n",
      "accuracy on test set = 10.096914556962023 %\n",
      " \n",
      "epoch= 5 \t time= 9.313446040948232 min \t lr= 0.25 \t loss= 2.3032280136557186 \t error= 90.15025575752453 percent\n",
      "accuracy on test set = 9.958465189873422 %\n",
      " \n",
      "epoch= 6 \t time= 11.181481687227885 min \t lr= 0.25 \t loss= 2.3031343950335024 \t error= 90.11508952016416 percent\n",
      "accuracy on test set = 9.889240506329111 %\n",
      " \n",
      "epoch= 7 \t time= 13.054163281122843 min \t lr= 0.25 \t loss= 2.289827768759959 \t error= 88.08304028742758 percent\n",
      "accuracy on test set = 9.958465189873422 %\n",
      " \n",
      "epoch= 8 \t time= 14.90872963666916 min \t lr= 0.25 \t loss= 2.3033410752825723 \t error= 90.04795395809671 percent\n",
      "accuracy on test set = 10.294699367088612 %\n",
      " \n",
      "epoch= 9 \t time= 16.767766058444977 min \t lr= 0.25 \t loss= 2.3033497168889743 \t error= 90.21739130434783 percent\n",
      "accuracy on test set = 9.958465189873422 %\n",
      " \n",
      "epoch= 10 \t time= 18.624672400951386 min \t lr= 0.125 \t loss= 2.302919459769793 \t error= 90.08152173913044 percent\n",
      "accuracy on test set = 10.146360759493668 %\n",
      " \n",
      "epoch= 11 \t time= 20.4797128478686 min \t lr= 0.125 \t loss= 2.3028003559697923 \t error= 89.87452046340688 percent\n",
      "accuracy on test set = 9.958465189873422 %\n",
      " \n",
      "epoch= 12 \t time= 22.33913732767105 min \t lr= 0.125 \t loss= 2.3029997062195293 \t error= 90.0107896388949 percent\n",
      "accuracy on test set = 10.077136075949367 %\n",
      " \n",
      "epoch= 13 \t time= 24.1980650862058 min \t lr= 0.125 \t loss= 2.3028683345336134 \t error= 89.97961956521739 percent\n",
      "accuracy on test set = 10.096914556962023 %\n",
      " \n",
      "epoch= 14 \t time= 26.062827257315316 min \t lr= 0.125 \t loss= 2.3028075499912664 \t error= 90.05195012177958 percent\n",
      "accuracy on test set = 10.423259493670889 %\n",
      " \n",
      "epoch= 15 \t time= 27.923776352405547 min \t lr= 0.125 \t loss= 2.3027646626962723 \t error= 89.87851662708975 percent\n",
      "accuracy on test set = 10.314477848101266 %\n",
      " \n",
      "epoch= 16 \t time= 29.79767347574234 min \t lr= 0.125 \t loss= 2.276319365367255 \t error= 86.87779731152916 percent\n",
      "accuracy on test set = 14.922863924050633 %\n",
      " \n",
      "epoch= 17 \t time= 31.698093728224435 min \t lr= 0.125 \t loss= 2.067550282039301 \t error= 75.63459078979005 percent\n",
      "accuracy on test set = 30.36985759493671 %\n",
      " \n",
      "epoch= 18 \t time= 33.60226587851842 min \t lr= 0.125 \t loss= 1.8543377294564796 \t error= 67.49680307515136 percent\n",
      "accuracy on test set = 34.1376582278481 %\n",
      " \n",
      "epoch= 19 \t time= 35.51213935613632 min \t lr= 0.125 \t loss= 1.7357493821922165 \t error= 62.750959076235056 percent\n",
      "accuracy on test set = 36.50118670886076 %\n",
      " \n",
      "epoch= 20 \t time= 37.42334681749344 min \t lr= 0.0625 \t loss= 1.5493545331003722 \t error= 55.75247762148338 percent\n",
      "accuracy on test set = 46.54865506329114 %\n",
      " \n",
      "epoch= 21 \t time= 39.33594302336375 min \t lr= 0.0625 \t loss= 1.4498827256205138 \t error= 52.28820331871052 percent\n",
      "accuracy on test set = 49.57476265822785 %\n",
      " \n",
      "epoch= 22 \t time= 41.24749518632889 min \t lr= 0.0625 \t loss= 1.354614087992617 \t error= 48.53180945681794 percent\n",
      "accuracy on test set = 52.84810126582278 %\n",
      " \n",
      "epoch= 23 \t time= 43.159447018305464 min \t lr= 0.0625 \t loss= 1.2588716502994528 \t error= 45.15585038058288 percent\n",
      "accuracy on test set = 52.74920886075949 %\n",
      " \n",
      "epoch= 24 \t time= 45.10789254109065 min \t lr= 0.0625 \t loss= 1.1762344629868218 \t error= 41.99288682559567 percent\n",
      "accuracy on test set = 56.07199367088608 %\n",
      " \n",
      "epoch= 25 \t time= 47.05122887690862 min \t lr= 0.0625 \t loss= 1.0893326726411006 \t error= 38.71763107721763 percent\n",
      "accuracy on test set = 55.15229430379747 %\n",
      " \n",
      "epoch= 26 \t time= 48.96377066373825 min \t lr= 0.0625 \t loss= 1.0099319655572057 \t error= 36.129315856777495 percent\n",
      "accuracy on test set = 59.375 %\n",
      " \n",
      "epoch= 27 \t time= 50.876908461252846 min \t lr= 0.0625 \t loss= 0.9172332120673431 \t error= 32.649056899273184 percent\n",
      "accuracy on test set = 61.09572784810127 %\n",
      " \n",
      "epoch= 28 \t time= 52.790047939618425 min \t lr= 0.0625 \t loss= 0.8228089961859272 \t error= 29.328644504327606 percent\n",
      "accuracy on test set = 59.19699367088608 %\n",
      " \n",
      "epoch= 29 \t time= 54.70183987220128 min \t lr= 0.0625 \t loss= 0.7222482226693722 \t error= 25.569053699293402 percent\n",
      "accuracy on test set = 58.939873417721515 %\n",
      " \n",
      "epoch= 30 \t time= 56.615815830230716 min \t lr= 0.03125 \t loss= 0.40549272295001826 \t error= 14.183184146271339 percent\n",
      "accuracy on test set = 61.45174050632911 %\n",
      " \n",
      "epoch= 31 \t time= 58.54207702477773 min \t lr= 0.03125 \t loss= 0.2821660760952079 \t error= 9.886908561677274 percent\n",
      "accuracy on test set = 59.56289556962025 %\n",
      " \n",
      "epoch= 32 \t time= 60.45898007551829 min \t lr= 0.03125 \t loss= 0.2161737267509141 \t error= 7.479219942751443 percent\n",
      "accuracy on test set = 59.87935126582278 %\n",
      " \n",
      "epoch= 33 \t time= 62.38301780223846 min \t lr= 0.03125 \t loss= 0.17180670490083488 \t error= 5.948689252214359 percent\n",
      "accuracy on test set = 59.94857594936709 %\n",
      " \n",
      "epoch= 34 \t time= 64.30346968968709 min \t lr= 0.03125 \t loss= 0.14833901649164727 \t error= 5.138666870648904 percent\n",
      "accuracy on test set = 59.85957278481013 %\n",
      " \n",
      "epoch= 35 \t time= 66.22471944888433 min \t lr= 0.015625 \t loss= 0.041935538892131634 \t error= 1.2268222506393862 percent\n",
      "accuracy on test set = 61.52096518987342 %\n",
      " \n",
      "epoch= 36 \t time= 68.14494906663894 min \t lr= 0.015625 \t loss= 0.016479982446660015 \t error= 0.4215952685421995 percent\n",
      "accuracy on test set = 61.86708860759494 %\n",
      " \n",
      "epoch= 37 \t time= 70.06422563791276 min \t lr= 0.015625 \t loss= 0.009788309071508362 \t error= 0.21978900255754477 percent\n",
      "accuracy on test set = 61.87697784810127 %\n",
      " \n",
      "epoch= 38 \t time= 71.98422081073126 min \t lr= 0.015625 \t loss= 0.00862030517857741 \t error= 0.21379475703324807 percent\n",
      "accuracy on test set = 61.82753164556962 %\n",
      " \n",
      "epoch= 39 \t time= 73.90198001464208 min \t lr= 0.015625 \t loss= 0.007276590747992172 \t error= 0.1578484654731458 percent\n",
      "accuracy on test set = 62.18354430379747 %\n",
      " \n"
     ]
    }
   ],
   "source": [
    "def eval_on_test_set():\n",
    "\n",
    "    running_error=0\n",
    "    num_batches=0\n",
    "\n",
    "    for i in range(0,10000,bs):\n",
    "\n",
    "        minibatch_data =  test_data[i:i+bs]\n",
    "        minibatch_label= test_label[i:i+bs]\n",
    "\n",
    "        minibatch_data=minibatch_data.to(device)\n",
    "        minibatch_label=minibatch_label.to(device)\n",
    "        \n",
    "        #inputs = (minibatch_data - mean)/std\n",
    "        inputs = minibatch_data\n",
    "\n",
    "        scores=net( inputs ) \n",
    "\n",
    "        error = ut.get_error( scores , minibatch_label)\n",
    "\n",
    "        running_error += error.item()\n",
    "\n",
    "        num_batches+=1\n",
    "\n",
    "    total_error = running_error/num_batches\n",
    "    #print( 'error rate on test set =', total_error*100 ,'percent')\n",
    "    accuracy = 1-total_error\n",
    "    print('accuracy on test set =', accuracy*100, '%')\n",
    "\n",
    "\n",
    "# ### Do 20 passes through the training set. Divide the learning rate by 2 at epoch 10, 14 and 18.\n",
    "\n",
    "# In[11]:\n",
    "\n",
    "\n",
    "start=time.time()\n",
    "\n",
    "for epoch in range(1,40):\n",
    "    \n",
    "    # divide the learning rate by 2 at epoch 10, 14 and 18\n",
    "    if epoch==10 or epoch == 20 or epoch==30 or epoch==35:\n",
    "        my_lr = my_lr / 2\n",
    "    \n",
    "    # create a new optimizer at the beginning of each epoch: give the current learning rate.   \n",
    "    optimizer=torch.optim.SGD( net.parameters() , lr=my_lr )\n",
    "        \n",
    "    # set the running quatities to zero at the beginning of the epoch\n",
    "    running_loss=0\n",
    "    running_error=0\n",
    "    num_batches=0\n",
    "    \n",
    "    # set the order in which to visit the image from the training set\n",
    "    shuffled_indices=torch.randperm(50000)\n",
    " \n",
    "    for count in range(0,50000,bs):\n",
    "    \n",
    "        # Set the gradients to zeros\n",
    "        optimizer.zero_grad()\n",
    "        \n",
    "        # create a minibatch       \n",
    "        indices=shuffled_indices[count:count+bs]\n",
    "        minibatch_data =  train_data[indices]\n",
    "        minibatch_label=  train_label[indices]\n",
    "        \n",
    "        # send them to the gpu\n",
    "        minibatch_data=minibatch_data.to(device)\n",
    "        minibatch_label=minibatch_label.to(device)\n",
    "        \n",
    "        # normalize the minibatch (this is the only difference compared to before!)\n",
    "        #inputs = (minibatch_data - mean)/std\n",
    "        inputs = minibatch_data\n",
    "        \n",
    "        # tell Pytorch to start tracking all operations that will be done on \"inputs\"\n",
    "        inputs.requires_grad_()\n",
    "\n",
    "        # forward the minibatch through the net \n",
    "        scores=net( inputs ) \n",
    "\n",
    "        # Compute the average of the losses of the data points in the minibatch\n",
    "        loss =  criterion( scores , minibatch_label) \n",
    "        \n",
    "        # backward pass to compute dL/dU, dL/dV and dL/dW   \n",
    "        loss.backward()\n",
    "\n",
    "        # do one step of stochastic gradient descent: U=U-lr(dL/dU), V=V-lr(dL/dU), ...\n",
    "        optimizer.step()\n",
    "        \n",
    "\n",
    "        # START COMPUTING STATS\n",
    "        \n",
    "        # add the loss of this batch to the running loss\n",
    "        running_loss += loss.detach().item()\n",
    "        \n",
    "        # compute the error made on this batch and add it to the running error       \n",
    "        error = ut.get_error( scores.detach() , minibatch_label)\n",
    "        running_error += error.item()\n",
    "        \n",
    "        num_batches+=1        \n",
    "    \n",
    "    \n",
    "    # compute stats for the full training set\n",
    "    total_loss = running_loss/num_batches\n",
    "    total_error = running_error/num_batches\n",
    "    elapsed = (time.time()-start)/60\n",
    "    \n",
    "\n",
    "    print('epoch=',epoch, '\\t time=', elapsed,'min','\\t lr=', my_lr  ,'\\t loss=', total_loss , '\\t error=', total_error*100 ,'percent')\n",
    "    eval_on_test_set() \n",
    "    print(' ')\n",
    "    \n",
    "      "
   ]
  },
  {
   "cell_type": "markdown",
   "metadata": {},
   "source": [
    "## Playing with Pytorch and Tensorflow"
   ]
  },
  {
   "cell_type": "code",
   "execution_count": 11,
   "metadata": {},
   "outputs": [],
   "source": [
    "train_loader = torch.utils.data.DataLoader(torch.utils.data.TensorDataset(train_data, train_label))\n",
    "     \n",
    "test_loader = torch.utils.data.DataLoader(torch.utils.data.TensorDataset(test_data, test_label))\n",
    "\n",
    "sess = tf.Session()\n",
    "x_op1 = tf.placeholder(tf.float32, shape=(None,3, 32, 32,))\n",
    "#x_op2 = tf.placeholder(tf.float32, shape=(None,3, 32, 32,))\n",
    "\n",
    "\n",
    "# Convert pytorch model to a tf_model and wrap it in cleverhans\n",
    "tf_net = convert_pytorch_model_to_tf(net)\n",
    "cleverhans_model = CallableModelWrapper(tf_net, output_layer='logits')\n",
    "\n",
    "\n"
   ]
  },
  {
   "cell_type": "code",
   "execution_count": 12,
   "metadata": {},
   "outputs": [
    {
     "name": "stdout",
     "output_type": "stream",
     "text": [
      "torch.Size([3, 32, 32])\n",
      "torch.Size([1, 3, 32, 32])\n"
     ]
    }
   ],
   "source": [
    "train = train_data[58]\n",
    "print(train.size())\n",
    "train = train.view(1,3,32,32)\n",
    "print(train.size())"
   ]
  },
  {
   "cell_type": "code",
   "execution_count": 13,
   "metadata": {},
   "outputs": [
    {
     "name": "stdout",
     "output_type": "stream",
     "text": [
      "torch.Size([50000, 3, 32, 32])\n",
      "torch.Size([])\n"
     ]
    }
   ],
   "source": [
    "print(train_data.size())\n",
    "print(train_label[58].size())"
   ]
  },
  {
   "cell_type": "code",
   "execution_count": 14,
   "metadata": {},
   "outputs": [],
   "source": [
    "label = train_label[[58]]"
   ]
  },
  {
   "cell_type": "code",
   "execution_count": 15,
   "metadata": {},
   "outputs": [
    {
     "name": "stdout",
     "output_type": "stream",
     "text": [
      "tensor([4])\n"
     ]
    }
   ],
   "source": [
    "print(label)"
   ]
  },
  {
   "cell_type": "code",
   "execution_count": 16,
   "metadata": {},
   "outputs": [],
   "source": [
    "train_loader = torch.utils.data.DataLoader(torch.utils.data.TensorDataset(train, label))\n",
    "sess = tf.Session()\n",
    "x_op1 = tf.placeholder(tf.float32, shape=(None,3, 32, 32,))\n",
    "#x_op2 = tf.placeholder(tf.float32, shape=(None,3, 32, 32,))\n",
    "\n",
    "\n",
    "# Convert pytorch model to a tf_model and wrap it in cleverhans\n",
    "tf_net = convert_pytorch_model_to_tf(net)\n",
    "cleverhans_model = CallableModelWrapper(tf_net, output_layer='logits')\n",
    "\n"
   ]
  },
  {
   "cell_type": "markdown",
   "metadata": {},
   "source": [
    "## Adversarial attack: FSGM"
   ]
  },
  {
   "cell_type": "code",
   "execution_count": 17,
   "metadata": {},
   "outputs": [],
   "source": [
    "# Create an FGSM attack\n",
    "fgsm_op = FastGradientMethod(cleverhans_model, sess=sess)\n",
    "fgsm_params = {'eps': 0.04,\n",
    "                 'clip_min': 0.,\n",
    "                 'clip_max': 1.}\n",
    "adv_x_op = fgsm_op.generate(x_op1, **fgsm_params)\n",
    "adv_preds_op = tf_net(adv_x_op)\n"
   ]
  },
  {
   "cell_type": "code",
   "execution_count": null,
   "metadata": {},
   "outputs": [],
   "source": []
  },
  {
   "cell_type": "markdown",
   "metadata": {},
   "source": [
    "## Check model performance after the attack"
   ]
  },
  {
   "cell_type": "code",
   "execution_count": 148,
   "metadata": {},
   "outputs": [],
   "source": [
    "no_runs = 10000\n",
    "correct = 0\n",
    "\n",
    "dist_cifar_list = []\n",
    "for xs, ys in test_loader:\n",
    "    xs, ys = Variable(xs), Variable(ys)\n",
    "    adv_example = sess.run(adv_x_op, feed_dict={x_op1: xs})\n",
    "    adv_preds = sess.run(adv_preds_op, feed_dict={adv_x_op: adv_example})\n",
    "    dist_cifar_list.append( max(np.reshape(np.array(adv_example-xs), 3072)))\n",
    "    correct += (np.argmax(adv_preds, axis=1) == ys).sum()\n",
    "    \n"
   ]
  },
  {
   "cell_type": "code",
   "execution_count": 140,
   "metadata": {},
   "outputs": [
    {
     "name": "stdout",
     "output_type": "stream",
     "text": [
      "Adversarial accuracy with FGSM attack: 34.720\n"
     ]
    }
   ],
   "source": [
    "dist_cifar = np.array(dist_cifar_list)  \n",
    "acc = float(correct) / no_runs\n",
    "\n",
    "print('Adversarial accuracy with FGSM attack: {:.3f}'.format(acc * 100))"
   ]
  },
  {
   "cell_type": "code",
   "execution_count": 127,
   "metadata": {},
   "outputs": [
    {
     "name": "stdout",
     "output_type": "stream",
     "text": [
      "<class 'numpy.ndarray'>\n"
     ]
    }
   ],
   "source": [
    "print(type(adv_example))"
   ]
  },
  {
   "cell_type": "code",
   "execution_count": 128,
   "metadata": {},
   "outputs": [],
   "source": [
    "adversarial = torch.from_numpy(adv_example)"
   ]
  },
  {
   "cell_type": "code",
   "execution_count": 129,
   "metadata": {},
   "outputs": [
    {
     "name": "stdout",
     "output_type": "stream",
     "text": [
      "torch.Size([1, 3, 32, 32])\n"
     ]
    }
   ],
   "source": [
    "print(adversarial.size())"
   ]
  },
  {
   "cell_type": "markdown",
   "metadata": {},
   "source": [
    "## Examples"
   ]
  },
  {
   "cell_type": "markdown",
   "metadata": {},
   "source": [
    "### Actual image"
   ]
  },
  {
   "cell_type": "code",
   "execution_count": 130,
   "metadata": {},
   "outputs": [
    {
     "data": {
      "image/png": "[encoded data removed]",
      "text/plain": [
       "<Figure size 432x288 with 1 Axes>"
      ]
     },
     "metadata": {
      "needs_background": "light"
     },
     "output_type": "display_data"
    }
   ],
   "source": [
    "ut.show(train_data[46])"
   ]
  },
  {
   "cell_type": "markdown",
   "metadata": {},
   "source": [
    "### Corresponding adversarial example"
   ]
  },
  {
   "cell_type": "code",
   "execution_count": 131,
   "metadata": {},
   "outputs": [
    {
     "data": {
      "image/png": "[encoded data removed]",
      "text/plain": [
       "<Figure size 432x288 with 1 Axes>"
      ]
     },
     "metadata": {
      "needs_background": "light"
     },
     "output_type": "display_data"
    }
   ],
   "source": [
    "ut.show(adversarial[0])"
   ]
  },
  {
   "cell_type": "code",
   "execution_count": 132,
   "metadata": {},
   "outputs": [],
   "source": [
    "diff = train_data[46]-adversarial[0]"
   ]
  },
  {
   "cell_type": "code",
   "execution_count": 141,
   "metadata": {},
   "outputs": [
    {
     "name": "stdout",
     "output_type": "stream",
     "text": [
      "tensor([[[-0.0400, -0.0400, -0.0400,  ...,  0.0400,  0.0400,  0.0400],\n",
      "         [ 0.0400, -0.0400, -0.0400,  ...,  0.0400,  0.0400,  0.0400],\n",
      "         [-0.0400,  0.0400, -0.0400,  ..., -0.0400, -0.0400,  0.0400],\n",
      "         ...,\n",
      "         [ 0.0400,  0.0400,  0.0400,  ...,  0.0400,  0.0400,  0.0400],\n",
      "         [ 0.0400,  0.0400,  0.0400,  ...,  0.0400,  0.0400,  0.0400],\n",
      "         [ 0.0400,  0.0400,  0.0400,  ..., -0.0400, -0.0400,  0.0400]],\n",
      "\n",
      "        [[ 0.0400, -0.0400, -0.0400,  ...,  0.0400,  0.0400,  0.0400],\n",
      "         [ 0.0400,  0.0400, -0.0400,  ..., -0.0400,  0.0400,  0.0400],\n",
      "         [ 0.0400,  0.0400,  0.0400,  ..., -0.0400, -0.0400,  0.0400],\n",
      "         ...,\n",
      "         [-0.0400, -0.0400, -0.0400,  ...,  0.0400,  0.0400,  0.0400],\n",
      "         [-0.0400,  0.0400, -0.0400,  ...,  0.0400,  0.0400,  0.0400],\n",
      "         [ 0.0400,  0.0400, -0.0400,  ..., -0.0400, -0.0400,  0.0400]],\n",
      "\n",
      "        [[ 0.0400, -0.0400, -0.0400,  ..., -0.0400, -0.0400, -0.0400],\n",
      "         [ 0.0400,  0.0400, -0.0400,  ..., -0.0400, -0.0400,  0.0400],\n",
      "         [ 0.0400,  0.0400, -0.0400,  ..., -0.0400, -0.0400,  0.0400],\n",
      "         ...,\n",
      "         [-0.0400, -0.0400, -0.0400,  ...,  0.0400, -0.0400,  0.0400],\n",
      "         [-0.0400, -0.0400, -0.0400,  ...,  0.0400, -0.0400, -0.0400],\n",
      "         [-0.0400, -0.0400, -0.0400,  ..., -0.0400, -0.0400, -0.0400]]])\n"
     ]
    }
   ],
   "source": [
    "print(diff)"
   ]
  },
  {
   "cell_type": "code",
   "execution_count": null,
   "metadata": {},
   "outputs": [],
   "source": []
  },
  {
   "cell_type": "code",
   "execution_count": 135,
   "metadata": {},
   "outputs": [
    {
     "name": "stderr",
     "output_type": "stream",
     "text": [
      "Clipping input data to the valid range for imshow with RGB data ([0..1] for floats or [0..255] for integers).\n"
     ]
    },
    {
     "data": {
      "image/png": "[encoded data removed]",
      "text/plain": [
       "<Figure size 432x288 with 1 Axes>"
      ]
     },
     "metadata": {
      "needs_background": "light"
     },
     "output_type": "display_data"
    }
   ],
   "source": [
    "ut.show(diff)\n",
    "#plt.imshow(diff)\n",
    "#plt.show()"
   ]
  },
  {
   "cell_type": "code",
   "execution_count": null,
   "metadata": {},
   "outputs": [],
   "source": []
  },
  {
   "cell_type": "code",
   "execution_count": null,
   "metadata": {},
   "outputs": [],
   "source": []
  },
  {
   "cell_type": "code",
   "execution_count": null,
   "metadata": {},
   "outputs": [],
   "source": []
  },
  {
   "cell_type": "code",
   "execution_count": null,
   "metadata": {},
   "outputs": [],
   "source": []
  },
  {
   "cell_type": "code",
   "execution_count": null,
   "metadata": {},
   "outputs": [],
   "source": []
  },
  {
   "cell_type": "code",
   "execution_count": null,
   "metadata": {},
   "outputs": [],
   "source": []
  },
  {
   "cell_type": "code",
   "execution_count": null,
   "metadata": {},
   "outputs": [],
   "source": []
  },
  {
   "cell_type": "code",
   "execution_count": null,
   "metadata": {},
   "outputs": [],
   "source": []
  },
  {
   "cell_type": "code",
   "execution_count": null,
   "metadata": {},
   "outputs": [],
   "source": []
  },
  {
   "cell_type": "code",
   "execution_count": 46,
   "metadata": {},
   "outputs": [],
   "source": [
    "\n",
    "import matplotlib as plt\n"
   ]
  },
  {
   "cell_type": "code",
   "execution_count": null,
   "metadata": {},
   "outputs": [],
   "source": []
  },
  {
   "cell_type": "code",
   "execution_count": 69,
   "metadata": {},
   "outputs": [
    {
     "data": {
      "text/plain": [
       "(array([  46.,    0.,    0.,    0.,    0.,    0.,    0.,    0.,    0.,\n",
       "        9954.]),\n",
       " array([0.        , 0.03      , 0.06000001, 0.09000001, 0.12000002,\n",
       "        0.15000002, 0.18000002, 0.21000002, 0.24000004, 0.27000004,\n",
       "        0.30000004], dtype=float32),\n",
       " <a list of 10 Patch objects>)"
      ]
     },
     "execution_count": 69,
     "metadata": {},
     "output_type": "execute_result"
    },
    {
     "data": {
      "image/png": "[encoded data removed]",
      "text/plain": [
       "<Figure size 432x288 with 1 Axes>"
      ]
     },
     "metadata": {},
     "output_type": "display_data"
    }
   ],
   "source": [
    "plt.pyplot.hist(dist_cifar)"
   ]
  },
  {
   "cell_type": "code",
   "execution_count": 73,
   "metadata": {},
   "outputs": [
    {
     "name": "stdout",
     "output_type": "stream",
     "text": [
      "0.020300144\n"
     ]
    }
   ],
   "source": [
    "print(np.std(dist_cifar))"
   ]
  },
  {
   "cell_type": "code",
   "execution_count": 27,
   "metadata": {},
   "outputs": [],
   "source": [
    "from cleverhans.attacks import *"
   ]
  },
  {
   "cell_type": "code",
   "execution_count": null,
   "metadata": {},
   "outputs": [],
   "source": []
  },
  {
   "cell_type": "markdown",
   "metadata": {},
   "source": [
    "## Adversarial attack: Momentum Iterative"
   ]
  },
  {
   "cell_type": "code",
   "execution_count": 29,
   "metadata": {},
   "outputs": [
    {
     "name": "stderr",
     "output_type": "stream",
     "text": [
      "c:\\users\\hesl\\ce7454_2018\\cleverhans\\cleverhans\\attacks.py:34: UserWarning: Argument back to attack constructors is not needed anymore and will be removed on or after 2019-03-26. All attacks are implemented using TensorFlow.\n",
      "  warnings.warn(\"Argument back to attack constructors is not needed\"\n"
     ]
    },
    {
     "name": "stdout",
     "output_type": "stream",
     "text": [
      "Adversarial accuracy with MomentumIterative method attack: 15.720\n"
     ]
    }
   ],
   "source": [
    "mi_op = MomentumIterativeMethod(cleverhans_model, sess=sess)\n",
    "\n",
    "mi_params = { 'eps' : 0.3, 'eps_iter' : 0.06, 'nb_iter' : 10} #'y': None, 'ord' : inf, 'decay_factor' : 1.0, 'clip_min' : None, 'clip_max' : None, 'y_target' : None}\n",
    "\n",
    "adv_x_op = mi_op.generate(x_op1, **mi_params)\n",
    "adv_preds_op = tf_net(adv_x_op)\n",
    "\n",
    "no_runs = 10000\n",
    "correct = 0\n",
    "for xs, ys in test_loader:\n",
    "    xs, ys = Variable(xs), Variable(ys)\n",
    "    adv_example = sess.run(adv_x_op, feed_dict={x_op1: xs})\n",
    "    adv_preds = sess.run(adv_preds_op, feed_dict={adv_x_op: adv_example})\n",
    "    correct += (np.argmax(adv_preds, axis=1) == ys).sum()\n",
    "\n",
    "acc = float(correct) / no_runs\n",
    "\n",
    "print('Adversarial accuracy with MomentumIterative method attack: {:.3f}'.format(acc * 100))\n",
    "\n"
   ]
  },
  {
   "cell_type": "code",
   "execution_count": null,
   "metadata": {},
   "outputs": [],
   "source": []
  },
  {
   "cell_type": "markdown",
   "metadata": {},
   "source": [
    "## Change dataset to MNIST"
   ]
  },
  {
   "cell_type": "code",
   "execution_count": 149,
   "metadata": {},
   "outputs": [],
   "source": [
    "from utils import check_mnist_dataset_exists\n",
    "data_path=check_mnist_dataset_exists()\n",
    "\n",
    "train_data=torch.load(data_path+'mnist/train_data.pt')\n",
    "train_label=torch.load(data_path+'mnist/train_label.pt')\n",
    "test_data=torch.load(data_path+'mnist/test_data.pt')\n",
    "test_label=torch.load(data_path+'mnist/test_label.pt')"
   ]
  },
  {
   "cell_type": "code",
   "execution_count": 150,
   "metadata": {},
   "outputs": [],
   "source": [
    "class two_layer_net(nn.Module):\n",
    "\n",
    "    def __init__(self, input_size, hidden_size,  output_size):\n",
    "        super(two_layer_net , self).__init__()\n",
    "        \n",
    "        self.layer1 = nn.Linear(  input_size   , hidden_size  , bias=False  )\n",
    "        self.layer2 = nn.Linear(  hidden_size  , output_size   , bias=False  )\n",
    "        \n",
    "        \n",
    "    def forward(self, x):\n",
    "        \n",
    "        y       = self.layer1(x)\n",
    "        y_hat   = F.relu(y)\n",
    "        scores  = self.layer2(y_hat)\n",
    "        \n",
    "        return scores"
   ]
  },
  {
   "cell_type": "code",
   "execution_count": 151,
   "metadata": {},
   "outputs": [
    {
     "name": "stdout",
     "output_type": "stream",
     "text": [
      "two_layer_net(\n",
      "  (layer1): Linear(in_features=784, out_features=50, bias=False)\n",
      "  (layer2): Linear(in_features=50, out_features=10, bias=False)\n",
      ")\n",
      "There are 39700 (0.04 million) parameters in this neural network\n"
     ]
    }
   ],
   "source": [
    "net_basic=two_layer_net(784,50,10)\n",
    "\n",
    "print(net_basic)\n",
    "ut.display_num_param(net_basic)"
   ]
  },
  {
   "cell_type": "code",
   "execution_count": null,
   "metadata": {},
   "outputs": [],
   "source": [
    "from pytorch_modelsize import SizeEstimator\n",
    "\n",
    "se = SizeEstimator(model, input_size=(784,50,10))\n",
    "print(se.estimate_size())\n"
   ]
  },
  {
   "cell_type": "code",
   "execution_count": 152,
   "metadata": {},
   "outputs": [],
   "source": [
    "criterion = nn.CrossEntropyLoss()\n",
    "\n",
    "optimizer=torch.optim.Adam( net_basic.parameters() , lr=0.01 )\n",
    "\n",
    "bs=20"
   ]
  },
  {
   "cell_type": "code",
   "execution_count": null,
   "metadata": {},
   "outputs": [],
   "source": []
  },
  {
   "cell_type": "code",
   "execution_count": 153,
   "metadata": {},
   "outputs": [
    {
     "name": "stdout",
     "output_type": "stream",
     "text": [
      "cuda\n"
     ]
    }
   ],
   "source": [
    "net_basic = net_basic.to(device)\n",
    "print(device)"
   ]
  },
  {
   "cell_type": "code",
   "execution_count": 154,
   "metadata": {},
   "outputs": [],
   "source": [
    "def eval_on_test_set():\n",
    "\n",
    "    running_error=0\n",
    "    num_batches=0\n",
    "\n",
    "    for i in range(0,10000,bs):\n",
    "\n",
    "        minibatch_data =  test_data[i:i+bs].to(device)\n",
    "        minibatch_label= test_label[i:i+bs].to(device)\n",
    "\n",
    "        inputs = minibatch_data.view(bs,784)\n",
    "\n",
    "        scores=net_basic( inputs ) \n",
    "\n",
    "        error = ut.get_error( scores , minibatch_label)\n",
    "\n",
    "        running_error += error.item()\n",
    "\n",
    "        num_batches+=1\n",
    "\n",
    "\n",
    "    total_error = running_error/num_batches\n",
    "    print( 'test error  = ', total_error*100 ,'percent')"
   ]
  },
  {
   "cell_type": "markdown",
   "metadata": {},
   "source": [
    "## Train and test the model"
   ]
  },
  {
   "cell_type": "code",
   "execution_count": 155,
   "metadata": {},
   "outputs": [
    {
     "name": "stdout",
     "output_type": "stream",
     "text": [
      " \n",
      "epoch= 0 \t time= 10.685914993286133 \t loss= 0.27820682751519293 \t error= 8.106665792067846 percent\n",
      "test error  =  5.80999939441681 percent\n",
      " \n",
      "epoch= 5 \t time= 64.25322961807251 \t loss= 0.15204911037259203 \t error= 3.849999902645747 percent\n",
      "test error  =  4.949999475479126 percent\n",
      " \n",
      "epoch= 10 \t time= 118.60045742988586 \t loss= 0.1322210292347677 \t error= 3.3366666078567504 percent\n",
      "test error  =  4.65999960899353 percent\n",
      " \n",
      "epoch= 15 \t time= 173.11955618858337 \t loss= 0.12170427537780901 \t error= 2.994999974966049 percent\n",
      "test error  =  4.249999594688416 percent\n",
      " \n",
      "epoch= 20 \t time= 228.89564561843872 \t loss= 0.1138219058794327 \t error= 2.6733333647251127 percent\n",
      "test error  =  3.8399998903274537 percent\n",
      " \n",
      "epoch= 25 \t time= 284.5814998149872 \t loss= 0.10506286737662096 \t error= 2.4816667040189104 percent\n",
      "test error  =  4.699999582767487 percent\n"
     ]
    }
   ],
   "source": [
    "start = time.time()\n",
    "\n",
    "for epoch in range(30):\n",
    "    \n",
    "    running_loss=0\n",
    "    running_error=0\n",
    "    num_batches=0\n",
    "    \n",
    "    shuffled_indices=torch.randperm(60000)\n",
    " \n",
    "    for count in range(0,60000,bs):\n",
    "        \n",
    "        # forward and backward pass\n",
    "    \n",
    "        optimizer.zero_grad()\n",
    "        \n",
    "        indices=shuffled_indices[count:count+bs]\n",
    "        minibatch_data =  train_data[indices].to(device)\n",
    "        minibatch_label= train_label[indices].to(device)\n",
    "\n",
    "        inputs = minibatch_data.view(bs,784)\n",
    "\n",
    "        inputs.requires_grad_()\n",
    "\n",
    "        scores=net_basic( inputs ) \n",
    "\n",
    "        loss =  criterion( scores , minibatch_label) \n",
    "        \n",
    "        loss.backward()\n",
    "\n",
    "        optimizer.step()\n",
    "        \n",
    "        \n",
    "        # compute some stats\n",
    "        \n",
    "        running_loss += loss.detach().item()\n",
    "               \n",
    "        error = ut.get_error( scores.detach() , minibatch_label)\n",
    "        running_error += error.item()\n",
    "        \n",
    "        num_batches+=1\n",
    "    \n",
    "    \n",
    "    # once the epoch is finished we divide the \"running quantities\"\n",
    "    # by the number of batches\n",
    "    \n",
    "    total_loss = running_loss/num_batches\n",
    "    total_error = running_error/num_batches\n",
    "    elapsed_time = time.time() - start\n",
    "    \n",
    "    # every 10 epoch we display the stats \n",
    "    # and compute the error rate on the test set  \n",
    "    \n",
    "    if epoch % 5 == 0 : \n",
    "    \n",
    "        print(' ')\n",
    "        \n",
    "        print('epoch=',epoch, '\\t time=', elapsed_time,\n",
    "              '\\t loss=', total_loss , '\\t error=', total_error*100 ,'percent')\n",
    "        \n",
    "        eval_on_test_set()\n",
    "               "
   ]
  },
  {
   "cell_type": "code",
   "execution_count": 187,
   "metadata": {},
   "outputs": [],
   "source": [
    "train_loader = torch.utils.data.DataLoader(torch.utils.data.TensorDataset(train_data.view(60000,784), train_label))\n",
    "     \n",
    "test_loader = torch.utils.data.DataLoader(torch.utils.data.TensorDataset(test_data.view(10000,784), test_label))\n",
    "\n",
    "sess = tf.Session()\n",
    "x_op1 = tf.placeholder(tf.float32, shape=(None,784,))\n",
    "#x_op2 = tf.placeholder(tf.float32, shape=(None,3, 32, 32,))\n",
    "\n",
    "\n",
    "# Convert pytorch model to a tf_model and wrap it in cleverhans\n",
    "tf_net = convert_pytorch_model_to_tf(net_basic)\n",
    "cleverhans_model = CallableModelWrapper(tf_net, output_layer='logits')\n"
   ]
  },
  {
   "cell_type": "code",
   "execution_count": 200,
   "metadata": {},
   "outputs": [],
   "source": [
    "# Create an FGSM attack\n",
    "fgsm_op = FastGradientMethod(cleverhans_model, sess=sess)\n",
    "fgsm_params = {'eps': 0.1,\n",
    "                 'clip_min': 0.,\n",
    "                 'clip_max': 1.}\n",
    "adv_x_op = fgsm_op.generate(x_op1, **fgsm_params)\n",
    "adv_preds_op = tf_net(adv_x_op)\n"
   ]
  },
  {
   "cell_type": "code",
   "execution_count": 170,
   "metadata": {},
   "outputs": [],
   "source": [
    "train = train_data[58]\n",
    "train = train.view(1,784)\n",
    "label = train_label[[58]]"
   ]
  },
  {
   "cell_type": "code",
   "execution_count": null,
   "metadata": {},
   "outputs": [],
   "source": []
  },
  {
   "cell_type": "code",
   "execution_count": 171,
   "metadata": {},
   "outputs": [],
   "source": [
    "train_loader = torch.utils.data.DataLoader(torch.utils.data.TensorDataset(train, label))\n",
    "sess = tf.Session()\n",
    "x_op1 = tf.placeholder(tf.float32, shape=(None,784,))\n",
    "#x_op2 = tf.placeholder(tf.float32, shape=(None,3, 32, 32,))\n",
    "\n",
    "\n",
    "# Convert pytorch model to a tf_model and wrap it in cleverhans\n",
    "tf_net = convert_pytorch_model_to_tf(net)\n",
    "cleverhans_model = CallableModelWrapper(tf_net, output_layer='logits')\n"
   ]
  },
  {
   "cell_type": "code",
   "execution_count": 201,
   "metadata": {},
   "outputs": [],
   "source": [
    "no_runs = 10000\n",
    "correct = 0\n",
    "\n",
    "dist_mnist_list = []\n",
    "for xs, ys in test_loader:\n",
    "    xs, ys = Variable(xs), Variable(ys)\n",
    "    adv_example = sess.run(adv_x_op, feed_dict={x_op1: xs})\n",
    "    adv_preds = sess.run(adv_preds_op, feed_dict={adv_x_op: adv_example})\n",
    "    dist_mnist_list.append( max(np.reshape(np.array(adv_example-xs), 784)))\n",
    "    correct += (np.argmax(adv_preds, axis=1) == ys).sum()\n",
    "    "
   ]
  },
  {
   "cell_type": "code",
   "execution_count": 139,
   "metadata": {},
   "outputs": [
    {
     "name": "stdout",
     "output_type": "stream",
     "text": [
      "Adversarial accuracy with FGSM attack for MNIST: 55.860\n"
     ]
    }
   ],
   "source": [
    "dist_mnist = np.array(dist_mnist_list)  \n",
    "acc = float(correct) / no_runs\n",
    "\n",
    "print('Adversarial accuracy with FGSM attack for MNIST: {:.3f}'.format(acc * 100))"
   ]
  },
  {
   "cell_type": "code",
   "execution_count": 176,
   "metadata": {},
   "outputs": [],
   "source": [
    "import matplotlib as plt"
   ]
  },
  {
   "cell_type": "code",
   "execution_count": 193,
   "metadata": {},
   "outputs": [
    {
     "data": {
      "image/png": "[encoded data removed]",
      "text/plain": [
       "<Figure size 432x288 with 1 Axes>"
      ]
     },
     "metadata": {
      "needs_background": "light"
     },
     "output_type": "display_data"
    }
   ],
   "source": [
    "ut.show(test_data[9999])"
   ]
  },
  {
   "cell_type": "code",
   "execution_count": 202,
   "metadata": {},
   "outputs": [
    {
     "name": "stdout",
     "output_type": "stream",
     "text": [
      "torch.Size([1, 28, 28])\n"
     ]
    }
   ],
   "source": [
    "adversarial = torch.from_numpy(adv_example)\n",
    "adversarial = adversarial.view(1,28,28)\n",
    "print(adversarial.size())\n"
   ]
  },
  {
   "cell_type": "code",
   "execution_count": 203,
   "metadata": {},
   "outputs": [
    {
     "data": {
      "image/png": "[encoded data removed]",
      "text/plain": [
       "<Figure size 432x288 with 1 Axes>"
      ]
     },
     "metadata": {
      "needs_background": "light"
     },
     "output_type": "display_data"
    }
   ],
   "source": [
    "ut.show(adversarial[0])"
   ]
  },
  {
   "cell_type": "code",
   "execution_count": 204,
   "metadata": {},
   "outputs": [],
   "source": [
    "diff = test_data[9999]-adversarial[0]"
   ]
  },
  {
   "cell_type": "code",
   "execution_count": 205,
   "metadata": {},
   "outputs": [
    {
     "data": {
      "image/png": "[encoded data removed]",
      "text/plain": [
       "<Figure size 432x288 with 1 Axes>"
      ]
     },
     "metadata": {
      "needs_background": "light"
     },
     "output_type": "display_data"
    }
   ],
   "source": [
    "ut.show(diff)"
   ]
  },
  {
   "cell_type": "code",
   "execution_count": null,
   "metadata": {},
   "outputs": [],
   "source": []
  },
  {
   "cell_type": "code",
   "execution_count": null,
   "metadata": {},
   "outputs": [],
   "source": []
  },
  {
   "cell_type": "code",
   "execution_count": null,
   "metadata": {},
   "outputs": [],
   "source": []
  },
  {
   "cell_type": "code",
   "execution_count": 141,
   "metadata": {},
   "outputs": [
    {
     "data": {
      "text/plain": [
       "(array([2869.,    0.,    0.,    0.,    0.,    0.,    0.,    0.,    0.,\n",
       "        7131.]),\n",
       " array([0.        , 0.03      , 0.06000001, 0.09000001, 0.12000002,\n",
       "        0.15000002, 0.18000002, 0.21000002, 0.24000004, 0.27000004,\n",
       "        0.30000004], dtype=float32),\n",
       " <a list of 10 Patch objects>)"
      ]
     },
     "execution_count": 141,
     "metadata": {},
     "output_type": "execute_result"
    },
    {
     "data": {
      "image/png": "[encoded data removed]",
      "text/plain": [
       "<Figure size 432x288 with 1 Axes>"
      ]
     },
     "metadata": {},
     "output_type": "display_data"
    }
   ],
   "source": [
    "plt.pyplot.hist(dist_mnist)"
   ]
  },
  {
   "cell_type": "code",
   "execution_count": null,
   "metadata": {},
   "outputs": [],
   "source": []
  },
  {
   "cell_type": "code",
   "execution_count": null,
   "metadata": {},
   "outputs": [],
   "source": []
  },
  {
   "cell_type": "code",
   "execution_count": null,
   "metadata": {},
   "outputs": [],
   "source": []
  },
  {
   "cell_type": "code",
   "execution_count": null,
   "metadata": {},
   "outputs": [],
   "source": []
  },
  {
   "cell_type": "code",
   "execution_count": 142,
   "metadata": {},
   "outputs": [
    {
     "name": "stdout",
     "output_type": "stream",
     "text": [
      "0.30000004\n"
     ]
    }
   ],
   "source": [
    "print(max (dist_mnist))"
   ]
  },
  {
   "cell_type": "code",
   "execution_count": 143,
   "metadata": {},
   "outputs": [
    {
     "name": "stdout",
     "output_type": "stream",
     "text": [
      "Adversarial accuracy with MomentumIterative method attack on MNIST: 50.060\n"
     ]
    }
   ],
   "source": [
    "mi_op = MomentumIterativeMethod(cleverhans_model, sess=sess)\n",
    "\n",
    "mi_params = { 'eps' : 0.3, 'eps_iter' : 0.06, 'nb_iter' : 10} #'y': None, 'ord' : inf, 'decay_factor' : 1.0, 'clip_min' : None, 'clip_max' : None, 'y_target' : None}\n",
    "\n",
    "adv_x_op = mi_op.generate(x_op1, **mi_params)\n",
    "adv_preds_op = tf_net(adv_x_op)\n",
    "\n",
    "no_runs = 10000\n",
    "correct = 0\n",
    "for xs, ys in test_loader:\n",
    "    xs, ys = Variable(xs), Variable(ys)\n",
    "    adv_example = sess.run(adv_x_op, feed_dict={x_op1: xs})\n",
    "    adv_preds = sess.run(adv_preds_op, feed_dict={adv_x_op: adv_example})\n",
    "    correct += (np.argmax(adv_preds, axis=1) == ys).sum()\n",
    "\n",
    "acc = float(correct) / no_runs\n",
    "\n",
    "print('Adversarial accuracy with MomentumIterative method attack on MNIST: {:.3f}'.format(acc * 100))\n",
    "\n"
   ]
  },
  {
   "cell_type": "code",
   "execution_count": null,
   "metadata": {},
   "outputs": [],
   "source": []
  }
 ],
 "metadata": {
  "kernelspec": {
   "display_name": "Python 3",
   "language": "python",
   "name": "python3"
  },
  "language_info": {
   "codemirror_mode": {
    "name": "ipython",
    "version": 3
   },
   "file_extension": ".py",
   "mimetype": "text/x-python",
   "name": "python",
   "nbconvert_exporter": "python",
   "pygments_lexer": "ipython3",
   "version": "3.6.6"
  }
 },
 "nbformat": 4,
 "nbformat_minor": 2
}
